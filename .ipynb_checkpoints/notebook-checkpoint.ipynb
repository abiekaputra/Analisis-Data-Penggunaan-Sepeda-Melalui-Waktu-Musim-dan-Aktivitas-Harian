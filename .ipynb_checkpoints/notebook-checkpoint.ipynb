{
 "cells": [
  {
   "cell_type": "markdown",
   "id": "3dad80c4",
   "metadata": {},
   "source": [
    "# Proyek Analisis Data : Analisis Data Penggunaan Sepeda: Waktu, Musim, dan Aktivitas Harian\n",
    "\n",
    "Proyek ini melakukan analisis terkait penggunaan sepeda berdasarkan dataset yang mencakup faktor-faktor seperti suhu, musim, hari kerja/libur, dan kondisi cuaca. Analisis ini terdiri dari beberapa langkah yang meliputi pengumpulan data, pembersihan data, analisis eksploratif, serta analisis lanjutan."
   ]
  },
  {
   "cell_type": "markdown",
   "id": "01900ab1",
   "metadata": {},
   "source": [
    "# Proyek Analisis Data: Analisis Data Penggunaan Sepeda: Waktu, Musim, dan Aktivitas Harian\n",
    "- **Nama:** Abi Eka Putra Wulyono\n",
    "- **Email:** abiekapw@gmail.com\n",
    "- **ID Dicoding:** abi_eka_putra_we6p"
   ]
  },
  {
   "cell_type": "markdown",
   "id": "e1aefd3e",
   "metadata": {},
   "source": [
    "## Menentukan Pertanyaan Bisnis"
   ]
  },
  {
   "cell_type": "markdown",
   "id": "5e6ae35e",
   "metadata": {},
   "source": [
    "- Bagaimana pengaruh musim (season) terhadap jumlah total pengguna sepeda per hari?\n",
    "- Bagaimana pola penggunaan sepeda berdasarkan waktu (jam) dalam sehari?"
   ]
  },
  {
   "cell_type": "markdown",
   "id": "3b5e16b9",
   "metadata": {},
   "source": [
    "## Import Semua Packages/Library yang Digunakan"
   ]
  },
  {
   "cell_type": "code",
   "execution_count": null,
   "id": "70030bf7",
   "metadata": {},
   "outputs": [],
   "source": [
    "import pandas as pd\n",
    "import matplotlib.pyplot as plt\n",
    "import seaborn as sns\n",
    "from sklearn.model_selection import train_test_split\n",
    "from sklearn.linear_model import LinearRegression"
   ]
  },
  {
   "cell_type": "markdown",
   "id": "52f91343",
   "metadata": {},
   "source": [
    "## 1. Pengumpulan Data (Data Wrangling)\n",
    "Langkah pertama adalah pengumpulan data. Saya akan menggunakan dataset 'day.csv' dan 'hour.csv'. Dataset ini memuat informasi harian dan per jam mengenai penggunaan sepeda."
   ]
  },
  {
   "cell_type": "code",
   "execution_count": null,
   "id": "fe25631c",
   "metadata": {},
   "outputs": [],
   "source": [
    "# Memuat dataset\n",
    "day_data = pd.read_csv('data/day.csv')\n",
    "hour_data = pd.read_csv('data/hour.csv')\n",
    "\n",
    "# Menampilkan lima data teratas dari setiap dataset\n",
    "day_data.head(), hour_data.head()    "
   ]
  },
  {
   "cell_type": "markdown",
   "id": "08d32533",
   "metadata": {},
   "source": [
    "**Insight:**\n",
    "Pada langkah ini, kita melihat sekilas struktur dataset yang akan kita gunakan. Ini membantu untuk memahami variabel yang ada, seperti 'cnt' (jumlah pengguna sepeda), 'temp' (suhu), 'season' (musim), dan 'workingday' (hari kerja)."
   ]
  },
  {
   "cell_type": "markdown",
   "id": "302d0b03",
   "metadata": {},
   "source": [
    "## 2. Pemeriksaan Data (Data Assessing)"
   ]
  },
  {
   "cell_type": "code",
   "execution_count": null,
   "id": "9765bc3c",
   "metadata": {},
   "outputs": [],
   "source": [
    "# Mengecek apakah ada data kosong dalam dataset\n",
    "print(\"Jumlah data kosong di 'day.csv':\")\n",
    "print(day_data.isnull().sum())\n",
    "\n",
    "print(\"\\nJumlah data kosong di 'hour.csv':\")\n",
    "print(hour_data.isnull().sum())\n",
    "\n",
    "# Mengecek apakah ada duplikasi data\n",
    "print(\"\\nJumlah data duplikat di 'day.csv':\")\n",
    "day_duplicates = day_data.duplicated().sum()\n",
    "print(day_duplicates)\n",
    "\n",
    "print(\"\\nJumlah data duplikat di 'hour.csv':\")\n",
    "hour_duplicates = hour_data.duplicated().sum()\n",
    "print(hour_duplicates)\n",
    "\n",
    "# Melihat statistik deskriptif untuk memahami distribusi data\n",
    "print(\"\\nStatistik deskriptif untuk 'day.csv':\")\n",
    "print(day_data.describe())\n",
    "\n",
    "print(\"\\nStatistik deskriptif untuk 'hour.csv':\")\n",
    "print(hour_data.describe())"
   ]
  },
  {
   "cell_type": "markdown",
   "id": "b0331268",
   "metadata": {},
   "source": [
    "**Insight:**\n",
    "Pada tahap ini, kita mendapatkan pemahaman awal mengenai kualitas data yang tersedia. Pemeriksaan terhadap data kosong, duplikasi, dan statistik deskriptif membantu memastikan bahwa dataset yang kita gunakan bebas dari masalah teknis yang dapat memengaruhi hasil analisis. Langkah ini juga memberikan wawasan awal tentang variabel-variabel penting yang akan kita analisis, seperti jumlah pengguna sepeda, suhu, musim, dan hari kerja."
   ]
  },
  {
   "cell_type": "markdown",
   "id": "c0505268",
   "metadata": {},
   "source": [
    "## 3. Pembersihan Data (Data Cleaning)\n",
    "Di sini kita akan memeriksa data yang kosong serta mendeteksi dan menghapus duplikasi yang mungkin ada dalam dataset."
   ]
  },
  {
   "cell_type": "code",
   "execution_count": null,
   "id": "58b0baca",
   "metadata": {},
   "outputs": [],
   "source": [
    "# Mengecek data kosong\n",
    "day_data.isnull().sum(), hour_data.isnull().sum()\n",
    "\n",
    "# Mengecek duplikasi data\n",
    "day_duplicates = day_data.duplicated().sum()\n",
    "hour_duplicates = hour_data.duplicated().sum()\n",
    "\n",
    "# Menghapus duplikasi jika ada\n",
    "day_data_cleaned = day_data.drop_duplicates() if day_duplicates > 0 else day_data\n",
    "hour_data_cleaned = hour_data.drop_duplicates() if hour_duplicates > 0 else hour_data\n",
    "\n",
    "day_data_cleaned.head(), hour_data_cleaned.head()    "
   ]
  },
  {
   "cell_type": "markdown",
   "id": "dac30e6d",
   "metadata": {},
   "source": [
    "**Insight:**\n",
    "Setelah membersihkan data, kita memastikan bahwa dataset bebas dari data kosong dan duplikasi. Ini memastikan analisis lebih lanjut akan akurat dan bebas dari kesalahan data."
   ]
  },
  {
   "cell_type": "markdown",
   "id": "43aedf9c",
   "metadata": {},
   "source": [
    "## 4. Exploratory Data Analysis (EDA)\n",
    "Pada tahap ini, kita akan melakukan analisis eksploratif untuk mendapatkan pemahaman awal mengenai pola dalam data. Saya akan memvisualisasikan distribusi penggunaan sepeda dan melihat korelasi antara variabel."
   ]
  },
  {
   "cell_type": "code",
   "execution_count": null,
   "id": "73c12da4",
   "metadata": {},
   "outputs": [],
   "source": [
    "# Visualisasi distribusi penggunaan sepeda per hari\n",
    "plt.figure(figsize=(10, 6))\n",
    "sns.histplot(day_data_cleaned['cnt'], kde=True, color='purple')\n",
    "plt.title('Distribusi Penggunaan Sepeda Per Hari')\n",
    "plt.xlabel('Jumlah Pengguna')\n",
    "plt.ylabel('Frekuensi')\n",
    "plt.show()\n",
    "\n",
    "# Korelasi antara variabel numerik\n",
    "corr_matrix = day_data_cleaned[['temp', 'atemp', 'hum', 'windspeed', 'cnt']].corr()\n",
    "plt.figure(figsize=(8, 6))\n",
    "sns.heatmap(corr_matrix, annot=True, cmap='coolwarm')\n",
    "plt.title('Matriks Korelasi Variabel')\n",
    "plt.show()\n",
    "    "
   ]
  },
  {
   "cell_type": "markdown",
   "id": "eb38935d",
   "metadata": {},
   "source": [
    "**Insight:**\n",
    "Distribusi penggunaan sepeda menunjukkan bahwa jumlah pengguna sepeda bervariasi setiap harinya. Melalui matriks korelasi, kita melihat bahwa suhu ('temp') mungkin memiliki hubungan yang cukup kuat dengan jumlah pengguna sepeda ('cnt')."
   ]
  },
  {
   "cell_type": "markdown",
   "id": "67fe2c72",
   "metadata": {},
   "source": [
    "## 5. Visualization & Explanatory Analysis\n",
    "Saya akan menambahkan filter untuk melihat rata-rata penggunaan sepeda berdasarkan musim, hari kerja/libur, dan jam."
   ]
  },
  {
   "cell_type": "code",
   "execution_count": null,
   "id": "2fc6a5b3",
   "metadata": {},
   "outputs": [],
   "source": [
    "\n",
    "# Mengelompokkan data berdasarkan musim dan menghitung rata-rata pengguna\n",
    "season_grouping = day_data_cleaned.groupby('season')['cnt'].mean().reset_index()\n",
    "season_map = {1: 'Semi', 2: 'Panas', 3: 'Gugur', 4: 'Dingin'}\n",
    "season_grouping['season'] = season_grouping['season'].map(season_map)\n",
    "\n",
    "# Visualisasi penggunaan sepeda per musim\n",
    "plt.figure(figsize=(8, 6))\n",
    "sns.barplot(x='season', y='cnt', data=season_grouping, palette='coolwarm')\n",
    "plt.title('Rata-rata Pengguna Sepeda Berdasarkan Musim')\n",
    "plt.xlabel('Musim')\n",
    "plt.ylabel('Rata-rata Pengguna')\n",
    "plt.show()\n",
    "\n",
    "# Visualisasi penggunaan sepeda pada hari kerja dan libur\n",
    "working_day_grouping = day_data_cleaned.groupby('workingday')['cnt'].mean().reset_index()\n",
    "working_day_grouping['workingday'] = working_day_grouping['workingday'].map({0: 'Hari Libur', 1: 'Hari Kerja'})\n",
    "\n",
    "plt.figure(figsize=(8, 6))\n",
    "sns.barplot(x='workingday', y='cnt', data=working_day_grouping, palette='viridis')\n",
    "plt.title('Penggunaan Sepeda pada Hari Kerja vs Libur')\n",
    "plt.xlabel('Hari')\n",
    "plt.ylabel('Rata-rata Pengguna')\n",
    "plt.show()\n",
    "\n",
    "# Visualisasi penggunaan sepeda berdasarkan jam\n",
    "hour_grouping = hour_data_cleaned.groupby('hr')['cnt'].mean().reset_index()\n",
    "plt.figure(figsize=(10, 6))\n",
    "sns.lineplot(x='hr', y='cnt', data=hour_grouping, marker='o', color='green')\n",
    "plt.title('Rata-rata Pengguna Sepeda Berdasarkan Jam')\n",
    "plt.xlabel('Jam')\n",
    "plt.ylabel('Rata-rata Pengguna')\n",
    "plt.show()\n",
    "    "
   ]
  },
  {
   "cell_type": "markdown",
   "id": "49e17ee3",
   "metadata": {},
   "source": [
    "**Insight:**\n",
    "- **Musim**: Penggunaan sepeda cenderung lebih tinggi pada musim panas dan semi, yang mungkin karena cuaca lebih bersahabat.\n",
    "- **Hari Kerja vs Libur**: Ada perbedaan jumlah pengguna sepeda pada hari kerja dan hari libur. Hari kerja cenderung memiliki lebih banyak pengguna.\n",
    "- **Jam**: Pengguna sepeda lebih aktif pada pagi hari dan sore hari, yang menunjukkan bahwa orang cenderung menggunakan sepeda untuk perjalanan harian seperti pergi dan pulang kerja."
   ]
  },
  {
   "cell_type": "markdown",
   "id": "1b5e681d",
   "metadata": {},
   "source": [
    "## 6. Analisis Lanjutan\n",
    "Pada bagian ini, kita akan melihat hubungan antara suhu dan jumlah pengguna sepeda serta melakukan analisis lebih lanjut."
   ]
  },
  {
   "cell_type": "code",
   "execution_count": null,
   "id": "3b204c04",
   "metadata": {},
   "outputs": [],
   "source": [
    "\n",
    "# Scatter plot hubungan antara suhu dan jumlah pengguna sepeda\n",
    "plt.figure(figsize=(10, 6))\n",
    "sns.scatterplot(x='temp', y='cnt', data=day_data_cleaned, color='orange')\n",
    "plt.title('Hubungan Suhu dengan Penggunaan Sepeda')\n",
    "plt.xlabel('Suhu')\n",
    "plt.ylabel('Jumlah Pengguna')\n",
    "plt.show()\n",
    "    "
   ]
  },
  {
   "cell_type": "markdown",
   "id": "e05e88d9",
   "metadata": {},
   "source": [
    "**Insight:**\n",
    "Terdapat hubungan yang jelas antara suhu dan jumlah pengguna sepeda. Jumlah pengguna meningkat saat suhu lebih nyaman (tidak terlalu rendah atau terlalu tinggi). Ini menunjukkan bahwa suhu merupakan faktor penting dalam memengaruhi perilaku pengguna sepeda."
   ]
  },
  {
   "cell_type": "markdown",
   "id": "ffb66fa3",
   "metadata": {},
   "source": [
    "## 7. Conclusion"
   ]
  },
  {
   "cell_type": "markdown",
   "id": "b5a4a6bd",
   "metadata": {},
   "source": [
    "- 1. Bagaimana pola penggunaan sepeda berdasarkan musim dan hari kerja/libur?\n",
    "     - Penggunaan sepeda lebih tinggi pada musim semi dan musim panas, yang mungkin disebabkan oleh cuaca yang lebih bersahabat untuk  aktivitas luar ruangan.\n",
    "     - Pada hari kerja, rata-rata pengguna sepeda lebih banyak dibandingkan pada hari libur. Ini menunjukkan bahwa sepeda lebih banyak digunakan sebagai alat transportasi harian, kemungkinan besar untuk bekerja atau sekolah.\n",
    "     - Pada musim dingin dan musim gugur, penggunaan sepeda menurun secara signifikan, kemungkinan karena cuaca yang tidak mendukung.\n",
    "- 2. Bagaimana pola penggunaan sepeda berdasarkan waktu (jam) dalam sehari?\n",
    "     - Pola penggunaan sepeda menunjukkan puncak aktivitas pada jam 8 pagi dan jam 5 sore, yang sesuai dengan waktu sibuk saat orang pergi dan pulang kerja/sekolah.\n",
    "     - Penggunaan sepeda cenderung lebih sedikit pada siang hari (di luar jam sibuk) dan malam hari setelah jam 8 malam, yang mungkin disebabkan oleh berkurangnya kebutuhan transportasi pada waktu tersebut.\n",
    "     - Aktivitas pengguna sepeda pada pagi dan sore hari ini mengindikasikan bahwa sepeda digunakan sebagai moda transportasi utama untuk perjalanan rutin, terutama untuk keperluan pekerjaan dan sekolah."
   ]
  }
 ],
 "metadata": {
  "language_info": {
   "name": "python"
  }
 },
 "nbformat": 4,
 "nbformat_minor": 5
}
